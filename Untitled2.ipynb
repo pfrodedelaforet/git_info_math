{
 "cells": [
  {
   "cell_type": "code",
   "execution_count": 97,
   "metadata": {},
   "outputs": [],
   "source": [
    "mkdir lignesdiff\n"
   ]
  },
  {
   "cell_type": "code",
   "execution_count": 98,
   "metadata": {},
   "outputs": [
    {
     "name": "stdout",
     "output_type": "stream",
     "text": [
      "C:\\Users\\pfrod\\lignesdiff\\lignesdiff\\lignesdiff\\lignesdiff\n"
     ]
    }
   ],
   "source": [
    "cd lignesdiff"
   ]
  },
  {
   "cell_type": "code",
   "execution_count": 99,
   "metadata": {},
   "outputs": [],
   "source": [
    "import autograd\n",
    "from autograd import numpy as np\n",
    "from math import sqrt\n",
    "import matplotlib.pyplot as plt"
   ]
  },
  {
   "cell_type": "code",
   "execution_count": 100,
   "metadata": {},
   "outputs": [],
   "source": [
    "\n",
    "def find_seed(g,x=0,a=0,b=1,c=0, eps=2**(-26)):\n",
    "    def f(y):\n",
    "        return g(x,y)-c\n",
    "    if not ((f(0)<=c<=f(1))or (f(0)>=c>=f(1))):\n",
    "        return None\n",
    "    while abs(a-b)>eps:\n",
    "        d=(a+b)/2\n",
    "        if f(d)*f(a)>=0:\n",
    "            a=d\n",
    "        else:\n",
    "            b=d\n",
    "    return (a+b)/2\n"
   ]
  },
  {
   "cell_type": "markdown",
   "metadata": {},
   "source": [
    "ici on est dans le cas d'une fonction à une seule variable, puisqu'on étudie en fait f:y g(x,y) avec x fixé donc.L'énoncé proposait de prendre x=0, mais on a besoin d'une forme plus générale pour la question suivante, et on se propose de poser a et b comme arguments définis par défaut à 0 et 1 respectivement (également pour la question suivante)."
   ]
  },
  {
   "cell_type": "code",
   "execution_count": 101,
   "metadata": {},
   "outputs": [],
   "source": [
    "def simple_contour(f,c=0,delta=0.01):\n",
    "    x=0 ; delta_x=delta/3 ; y=find_seed(f)\n",
    "    X=[]\n",
    "    Y=[]\n",
    "    if y!=None:\n",
    "        X.append(x)\n",
    "        Y.append(y)#jusqu'à maintenant on initialise \n",
    "    while x<=1:\n",
    "        delta_y=sqrt(delta**2-delta_x**2)#delta_y défini à partir des coordonnées du point précédent pour vérifier l'espacement<=delta\n",
    "        y_=find_seed(f,x,y-delta_y,y+delta_y,c)\n",
    "        y=y_\n",
    "        if y!=None:\n",
    "            X.append(x)\n",
    "            Y.append(y)\n",
    "        x+=delta/3\n",
    "    return (X,Y)"
   ]
  },
  {
   "cell_type": "code",
   "execution_count": null,
   "metadata": {},
   "outputs": [],
   "source": []
  },
  {
   "cell_type": "markdown",
   "metadata": {},
   "source": [
    "Ici, on a écrit un programme qui parcourt les x en faisant un saut de delta/3 (choix arbitraire), \n",
    "on choisit ensuite les deux points initiaux de la dichotomie de sorte à ce qu'on soit surs que\n",
    "deux antécédents consécutifs de c soient espacés de moins de delta. Cependant, ce programme est\n",
    "efficace dans la limite où on trouve une valeur à chaque saut (dans le cas on renvoie des listes vides).\n",
    "Ce programme est trop particulier, il faudrait plutôt balayer les x dans le cercle de centre (xn,yn) et de\n",
    "rayon delta pour trouver (xn+1,yn+1). Pour cela, on a pensé à mettre au point un programme récursif avec une limite de proximité \n",
    "entre deux points consécutifs pour éviter que le programme ne tourne à l'infini (par exemple sur les bornes \n",
    "d'un intervalle ouvert)."
   ]
  },
  {
   "cell_type": "code",
   "execution_count": 142,
   "metadata": {},
   "outputs": [
    {
     "name": "stdout",
     "output_type": "stream",
     "text": [
      "[[6.2 4.6]]\n",
      "6.2\n"
     ]
    }
   ],
   "source": [
    "def h(x, y):\n",
    "    return x**2+y**2\n",
    "def J_h(x, y):\n",
    "    return np.c_[autograd.jacobian(h, 0)(x, y), autograd.jacobian(h, 1)(x, y)]\n",
    "print(J_h(3.1, 2.3))\n",
    "\n",
    "print(autograd.jacobian(h)(3.1,2.3))\n",
    "\n",
    "def delta_xy_recursif(f, x, delta = 0.01, delta_rec = 0.01, c = 0, eps = 10**(-5)):\n",
    "    delta_x = delta_rec/2 ; delta_y = sqrt(delta**2-delta_x**2) ; y = find_seed(f, x, y-delt_y, y+delta_y, c)\n",
    "    if delta_x > eps:\n",
    "        if y != None:\n",
    "            return (delta_x, y)\n",
    "        else : \n",
    "            return delta_xy_recursif(f, x, delta, delta_x, c, eps)\n",
    "    else : \n",
    "        return None \n",
    "\n",
    "def simple_contour_rec(f, c = 0, delta = 0.01, eps = 10**(-5)):\n",
    "    x=0 ; y= find_seed(f, x, 0, 1, c) ; i = 0\n",
    "    X=[]\n",
    "    Y=[]\n",
    "    if y != None : \n",
    "        X.append(x)\n",
    "        Y.append(y)\n",
    "    while x <= 1 and i<=10000:\n",
    "        if delta_xy_recursif != None : \n",
    "            (delta_x, y) = delta_xy_recursif\n",
    "            x += delta_x\n",
    "            X.append(x)\n",
    "            Y.append(y)\n",
    "            i += 1\n",
    "        else :\n",
    "            return None\n",
    "    return (X,Y)\n",
    "\n",
    "    "
   ]
  },
  {
   "cell_type": "markdown",
   "metadata": {},
   "source": [
    "comme expliqué précédemment, dans le programme ci-dessus on programme de manière récursive: à chaque fois qu'on avance sur l'axe des x, \n",
    "on tente de trouver (x_,y_) proche de moins de delta de nos (x,y) tel que f(x,y)=c. Pour cela, on cherche un y qui fonctionne en delta/2, \n",
    "puis en delta/4, puis en delta/8, puis en delta/16, etc... en s'arrêtant à delta_x<eps. On avance donc avec un pas qui dépend de x, donc on peut potentiellement ne jamais s'arrêter, d'où le compteur i "
   ]
  },
  {
   "cell_type": "code",
   "execution_count": 146,
   "metadata": {},
   "outputs": [
    {
     "name": "stdout",
     "output_type": "stream",
     "text": [
      "[0.0, 0.009999875036467471, 0.0199987500481807, 0.029995625184889116, 0.03998950075907904, 0.04997937738319306, 0.059964256069568754, 0.0699431383303375, 0.07991502627727319, 0.08987892272158118, 0.099833831273617, 0.10977875644252547, 0.11971270373578968, 0.12963467975868032, 0.13954369231359506, 0.14943875049927846, 0.15931886480991192, 0.1691830472340644, 0.17903031135349348, 0.18885967244178722, 0.19867014756283677, 0.20846075566913005, 0.21823051769985638, 0.22797845667881275, 0.2377035978121012, 0.24740496858560848, 0.2570815988622572, 0.26673252097901967, 0.27635676984368424, 0.28595338303136447, 0.2955214008807416, 0.3050598665900306, 0.3145678263126606, 0.32404432925265936, 0.3334884277597328, 0.3428991774240303, 0.3522756371705854, 0.36161686935342346, 0.37092193984932614, 0.3801899181512439, 0.38941987746134654, 0.39861089478370304, 0.4077620510165812, 0.41687243104435767, 0.4259411238290297, 0.43496722250131886, 0.4439498244513579, 0.4528880314189518, 0.46178094958340377, 0.4706276896528974, 0.47942736695342575, 0.48817910151725874, 0.49688201817094, 0.5055352466228041, 0.514137921550006, 0.5226891826850529, 0.5311881749018313, 0.5396340483011196, 0.5480259582955777, 0.5563630656942061, 0.5646445367862652, 0.5728695434246457, 0.5810372631086838, 0.589146879066411, 0.5971975803362315, 0.6051885618480184, 0.6131190245036205, 0.6209881752567722, 0.6287952271923983, 0.6365393996053051, 0.6442199180782514, 0.6518360145593899, 0.6593869274390725, 0.6668719016260111, 0.674290188622787, 0.6816410466007008, 0.6889237404739544, 0.6961375419731607, 0.7032817297181696, 0.7103555892902068, 0.717358413303315, 0.7242895014750927, 0.7311481606967231, 0.7379337051022836, 0.7446454561373339, 0.7512827426267706, 0.7578449008419446, 0.7643312745670343, 0.7707412151646674, 0.7770740816407841, 0.7833292407087366, 0.7895060668526181, 0.7956039423898146, 0.8016222575327719, 0.8075604104499761, 0.8134178073261351, 0.8191938624215617, 0.8248879981307461, 0.8304996450401173, 0.8360282419849846, 0.8414732361056533, 0.8468340829027116, 0.8521102462914796, 0.8573011986556184, 0.8624064208998915, 0.8674254025020748, 0.8723576415640077, 0.8772026448617845, 0.8819599278950748, 0.8866290149355758, 0.8912094390745832, 0.8957007422696831, 0.900102475390556, 0.9044141982638899, 0.9086354797173974, 0.9127658976229333, 0.9168050389387067, 0.9207524997505863, 0.9246078853124908, 0.9283708100858642, 0.9320408977782288, 0.9356177813808157, 0.9391011032052645, 0.9424905149193928, 0.9457856775820292, 0.9489862616769074, 0.9520919471456177, 0.9551024234196136, 0.9580173894512676, 0.9608365537439764, 0.9635596343813108, 0.966186359055207, 0.9687164650931979, 0.9711496994846793, 0.9734858189062123, 0.9757245897458546, 0.9778657881265224, 0.9799091999283774, 0.9818546208102398, 0.9837018562300209, 0.9854507214641792, 0.9871010416261911, 0.9886526516840402, 0.990105396476721, 0.9914591307297541, 0.9927137190697143, 0.9938690360377674, 0.9949249661022169, 0.9958814036700561, 0.9967382530975282, 0.9974954286996907, 0.9981528547589831, 0.9987104655327997, 0.9991682052600629, 0.9995260281668003, 0.9997838984707208, 0.9999417903847944, 0.9999996881198294, 0.9999575858860524]\n"
     ]
    },
    {
     "data": {
      "text/plain": [
       "[<matplotlib.lines.Line2D at 0x2ab08ac2e10>]"
      ]
     },
     "execution_count": 146,
     "metadata": {},
     "output_type": "execute_result"
    },
    {
     "data": {
      "image/png": "[encoded data removed]",
      "text/plain": [
       "<Figure size 432x288 with 1 Axes>"
      ]
     },
     "metadata": {
      "needs_background": "light"
     },
     "output_type": "display_data"
    }
   ],
   "source": [
    "def norm(L):\n",
    "    s=0 \n",
    "    for i in range(len(L)):\n",
    "        s+=L[i]**2\n",
    "    return sqrt(s)\n",
    "\n",
    "def trouv_reg(f, x, y, x_, y_, delta):#x_=xn, x=xn-1\n",
    "    gradi=[autograd.grad(f,0)(x_,y_), autograd.grad(f,1)(x_,y_)]\n",
    "    orth=(-gradi[1]/norm((-gradi[1],gradi[0]))*delta, gradi[0]/norm((-gradi[1],gradi[0]))*delta)\n",
    "    if norm((x_-orth[0]-x,y_-orth[1]-y))>norm((x_+orth[0]-x,y_+orth[1]-y)):\n",
    "        return (x_-orth[0],y_-orth[1])\n",
    "    return (x_+orth[0],y+orth[1])\n",
    "\n",
    "def newton(f,x,y,x_,y_,delta,c,n):\n",
    "    (p,q)=(x_,y_)\n",
    "    def d(a,b):\n",
    "        return (a-x)**2+(b-y)**2-delta**2\n",
    "    def g(a,b):\n",
    "        return f(a,b)-c\n",
    "    J=np.array([[float(autograd.jacobian(g,0)(p,q)), float(autograd.jacobian(g,1)(p,q))],[float(autograd.jacobian(d,0)(p,q)), float(autograd.jacobian(d,1)(p,q))]])\n",
    "    for i in range(n):\n",
    "        #pour m'assurer que J est bien inversible je n'utilise pas le déterminant à cause d'une erreur pour le moins surprenante\n",
    "        #qui m'indique que le logiciel ne considère pas le déterminant comme un flottant, alors qu'il s'agit bien d'un tel objet lorsque je le print\n",
    "        translat=-np.linalg.inv(J).dot(np.array([[float(g(p,q))],[float(d(p,q))]]))\n",
    "        (p,q)=(p+float(translat[0]), q+float(translat[1]))\n",
    "        J=np.array([[float(autograd.jacobian(g,0)(p,q)), float(autograd.jacobian(g,1)(p,q))],[float(autograd.jacobian(d,0)(p,q)), float(autograd.jacobian(d,1)(p,q))]])\n",
    "    return (float(p),float(q))\n",
    "\n",
    "def contour_simple_final(f, c, delta, n):\n",
    "    x_=0.0 ; y_=find_seed(f)\n",
    "    X=[x_]\n",
    "    Y=[y_]\n",
    "    gradi=[autograd.grad(f,0)(x_,y_), autograd.grad(f,1)(x_,y_)]\n",
    "    orth=(-gradi[1]/norm((-gradi[1],gradi[0]))*delta, gradi[0]/norm((-gradi[1],gradi[0]))*delta)\n",
    "    (x,y)=(x_,y_)\n",
    "    if orth[0]<0:\n",
    "        (x_,y_)=(x_-orth[0],y_-orth[1])\n",
    "    else:\n",
    "        (x_,y_)=(x_+orth[0],y_+orth[1])\n",
    "    (x_,y_)=newton(f,x,y,x_,y_,delta,c,n)\n",
    "    X.append(x_)\n",
    "    Y.append(y_)\n",
    "    \n",
    "    while ((0<=x_<=1.0) & (0<=y_<=1.0)):\n",
    "        (x_,y_)=trouv_reg(f,x,y,x_,y_,delta)\n",
    "        (x,y)=(X[-1],Y[-1])\n",
    "        (x_,y_)=newton(f,x,y,x_,y_,delta,c,n)\n",
    "        X.append(x_)\n",
    "        Y.append(y_)\n",
    "    return (X,Y)    \n",
    "        \n",
    "(X,Y) = contour_simple_final(h,1,0.01, 100)\n",
    "print(X)\n",
    "plt.plot(X,Y)"
   ]
  },
  {
   "cell_type": "code",
   "execution_count": null,
   "metadata": {},
   "outputs": [],
   "source": [
    "def contourtot(f,c,delta,n) : \n",
    "    "
   ]
  },
  {
   "cell_type": "code",
   "execution_count": 104,
   "metadata": {},
   "outputs": [
    {
     "name": "stdout",
     "output_type": "stream",
     "text": [
      "ca marche pas\n"
     ]
    }
   ],
   "source": [
    "a=np.linalg.det(np.array([[1,2],[3,4]]))\n",
    "if a==0:\n",
    "    print(\"ca marche\")\n",
    "else:\n",
    "    print(\"ca marche pas\")"
   ]
  }
 ],
 "metadata": {
  "kernelspec": {
   "display_name": "Python 3",
   "language": "python",
   "name": "python3"
  },
  "language_info": {
   "codemirror_mode": {
    "name": "ipython",
    "version": 3
   },
   "file_extension": ".py",
   "mimetype": "text/x-python",
   "name": "python",
   "nbconvert_exporter": "python",
   "pygments_lexer": "ipython3",
   "version": "3.7.3"
  }
 },
 "nbformat": 4,
 "nbformat_minor": 2
}
