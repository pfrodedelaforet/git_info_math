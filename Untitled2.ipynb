{
 "cells": [
  {
   "cell_type": "code",
   "execution_count": 2,
   "metadata": {},
   "outputs": [],
   "source": [
    "mkdir lignesdiff\n"
   ]
  },
  {
   "cell_type": "code",
   "execution_count": 3,
   "metadata": {},
   "outputs": [
    {
     "name": "stdout",
     "output_type": "stream",
     "text": [
      "C:\\Users\\pfrod\\lignesdiff\n"
     ]
    }
   ],
   "source": [
    "cd lignesdiff"
   ]
  },
  {
   "cell_type": "code",
   "execution_count": 10,
   "metadata": {},
   "outputs": [],
   "source": [
    "def find_seed(g,x=0,a=0,b=1,c=0, eps=2**(-26)):\n",
    "    def f(y):\n",
    "        return g(x,y)-c\n",
    "    if not ((f(0)<=c<=f(1))or (f(0)>=c>=f(1))):\n",
    "        return None\n",
    "    while abs(a-b)>eps:\n",
    "        d=(a+b)/2\n",
    "        if f(d)*f(a)>=0:\n",
    "            a=d\n",
    "        else:\n",
    "            b=d\n",
    "    return (a+b)/2\n"
   ]
  },
  {
   "cell_type": "markdown",
   "metadata": {},
   "source": [
    "ici on est dans le cas d'une fonction à une seule variable, puisqu'on étudie en fait f:y g(x,y) avec x fixé donc.L'énoncé proposait de prendre x=0, mais on a besoin d'une forme plus générale pour la question suivante, et on se propose de poser a et b comme arguments définis par défaut à 0 et 1 respectivement (également pour la question suivante)."
   ]
  },
  {
   "cell_type": "code",
   "execution_count": 11,
   "metadata": {},
   "outputs": [],
   "source": [
    "def simple_contour(f,c=0,delta=0.01):\n",
    "    x=0 ; delta_x=delta/3 ; y=find_seed(f)\n",
    "    X=[]\n",
    "    Y=[]\n",
    "    if y!=None:\n",
    "        X.append(x)\n",
    "        Y.append(y)#jusqu'à maintenant on initialise \n",
    "    while x<=1:\n",
    "        delta_y=sqrt(delta**2-delta_x**2)#delta_y défini à partir des coordonnées du point précédent pour vérifier l'espacement<=delta\n",
    "        y_=find_seed(f,x,y-delta_y,y+delta_y,c)\n",
    "        y=y_\n",
    "        if y!=None:\n",
    "            X.append(x)\n",
    "            Y.append(y)\n",
    "        x+=delta/3\n",
    "    return (X,Y)"
   ]
  },
  {
   "cell_type": "markdown",
   "metadata": {},
   "source": [
    "Ici, on a écrit un progrmme qui parcourt les x en faisan un saut de delta/3 (choix arbitraire), \n",
    "on choisit ensuite les deux points initiaux de la dichotomie de sorte à ce qu'on soit surs que\n",
    "deux antécédents consécutifs de c soient espacés de moins de delta. Cependant, ce programme est\n",
    "efficace dans la limite où on trouve une valeur à chaque saut (dans le cas on renvoie des listes vides).\n",
    "Ce programme est trop particulier, il faudrait plutôt balayer les x dans le cercle de centre (xn,yn) et de\n",
    "rayon delta pour trouver (xn+1,yn+1). Pour cela, on a pensé à mettre au point un programme récursif avec une limite de proximité \n",
    "entre deux points consécutifs pour éviter que le programme ne tourne à l'infini (par exemple sur les bornes \n",
    "d'un intervalle ouvert)."
   ]
  },
  {
   "cell_type": "code",
   "execution_count": null,
   "metadata": {},
   "outputs": [],
   "source": [
    "def contour(f,c=0,xc=[0,1],yc=[0,1],delta=0.01):\n",
    "    for a in xc:\n",
    "        for b in yc:\n",
    "            "
   ]
  }
 ],
 "metadata": {
  "kernelspec": {
   "display_name": "Python 3",
   "language": "python",
   "name": "python3"
  },
  "language_info": {
   "codemirror_mode": {
    "name": "ipython",
    "version": 3
   },
   "file_extension": ".py",
   "mimetype": "text/x-python",
   "name": "python",
   "nbconvert_exporter": "python",
   "pygments_lexer": "ipython3",
   "version": "3.7.3"
  }
 },
 "nbformat": 4,
 "nbformat_minor": 2
}
