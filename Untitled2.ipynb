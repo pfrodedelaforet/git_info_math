{
 "cells": [
  {
   "cell_type": "code",
   "execution_count": 2,
   "metadata": {},
   "outputs": [],
   "source": [
    "mkdir lignesdiff\n"
   ]
  },
  {
   "cell_type": "code",
   "execution_count": 3,
   "metadata": {},
   "outputs": [
    {
     "name": "stdout",
     "output_type": "stream",
     "text": [
      "C:\\Users\\pfrod\\lignesdiff\n"
     ]
    }
   ],
   "source": [
    "cd lignesdiff"
   ]
  },
  {
   "cell_type": "code",
   "execution_count": 8,
   "metadata": {},
   "outputs": [
    {
     "ename": "SyntaxError",
     "evalue": "invalid syntax (<ipython-input-8-6b2fb61fa7f4>, line 1)",
     "output_type": "error",
     "traceback": [
      "\u001b[1;36m  File \u001b[1;32m\"<ipython-input-8-6b2fb61fa7f4>\"\u001b[1;36m, line \u001b[1;32m1\u001b[0m\n\u001b[1;33m    git init\u001b[0m\n\u001b[1;37m           ^\u001b[0m\n\u001b[1;31mSyntaxError\u001b[0m\u001b[1;31m:\u001b[0m invalid syntax\n"
     ]
    }
   ],
   "source": [
    "git init "
   ]
  },
  {
   "cell_type": "code",
   "execution_count": 10,
   "metadata": {},
   "outputs": [],
   "source": [
    "def find_seed(g,x=0,c=0, eps=2**(-26)):\n",
    "    def f(y):\n",
    "        return g(x,y)-c\n",
    "    if not ((f(0)<=c<=f(1))or (f(0)>=c>=f(1))):\n",
    "        return None\n",
    "    a=0;b=1\n",
    "    while abs(a-b)>eps:\n",
    "        d=(a+b)/2\n",
    "        if f(d)*f(a)>=0:\n",
    "            a=d\n",
    "        else:\n",
    "            b=d\n",
    "    return (a+b)/2\n"
   ]
  },
  {
   "cell_type": "markdown",
   "metadata": {},
   "source": [
    "\\usepackage{mathtools}\n",
    "ici on est dans le cas d'une fonction à une seule variable, puisqu'on étudie en fait f:y \\mapsto g(x,y) avec x fixé donc.L'énoncé proposait de prendre x=0, mais on a besoin d'une forme plus générale pour la question suivante"
   ]
  },
  {
   "cell_type": "code",
   "execution_count": 11,
   "metadata": {},
   "outputs": [],
   "source": [
    "def simple_contour(f,c=0,delta=0.01):\n",
    "    X=[]\n",
    "    Y=[]\n",
    "    x=0\n",
    "    while x<=1:\n",
    "        y=find_seed(f,x,c)\n",
    "        if y!=None:\n",
    "            X.append(x)\n",
    "            Y.append(y)\n",
    "        x+=delta\n",
    "    return (X,Y)"
   ]
  },
  {
   "cell_type": "code",
   "execution_count": null,
   "metadata": {},
   "outputs": [],
   "source": [
    "def contour(f,c=0,xc=[0,1],yc=[0,1],delta=0.01):\n",
    "    "
   ]
  }
 ],
 "metadata": {
  "kernelspec": {
   "display_name": "Python 3",
   "language": "python",
   "name": "python3"
  },
  "language_info": {
   "codemirror_mode": {
    "name": "ipython",
    "version": 3
   },
   "file_extension": ".py",
   "mimetype": "text/x-python",
   "name": "python",
   "nbconvert_exporter": "python",
   "pygments_lexer": "ipython3",
   "version": "3.7.3"
  }
 },
 "nbformat": 4,
 "nbformat_minor": 2
}
